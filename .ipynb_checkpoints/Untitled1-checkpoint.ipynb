{
 "cells": [
  {
   "cell_type": "code",
   "execution_count": 12,
   "id": "0205d0ad-d1e7-4778-8e9a-f7f8d9e52f3e",
   "metadata": {},
   "outputs": [],
   "source": [
    "import os,glob,sys,re\n",
    "import numpy as np\n",
    "import pandas as pd\n",
    "import joblib\n",
    "import xgboost as xgb\n",
    "import hydroeval as he\n",
    "from sklearn.model_selection import RandomizedSearchCV\n",
    "from sklearn.model_selection import cross_val_predict\n",
    "import cupy as cp\n",
    "import warnings\n",
    "warnings.filterwarnings(\"ignore\")"
   ]
  },
  {
   "cell_type": "code",
   "execution_count": 68,
   "id": "4b4b4cc6-4ab5-4e55-82d2-d51aba4b4c97",
   "metadata": {},
   "outputs": [],
   "source": [
    "fname = '../data/Qmin7_final_dataset_seasonal_multi_MSWX_meteo.csv'\n",
    "target = 'Qmin7'\n",
    "model = 'xgb'\n",
    "\n",
    "# define outName to better name the ouput files\n",
    "outName = re.sub('final_dataset_', '', os.path.basename(fname).split('.')[0])\n"
   ]
  },
  {
   "cell_type": "code",
   "execution_count": 69,
   "id": "b31881b0-1100-45b2-ae3b-5dcded84249e",
   "metadata": {},
   "outputs": [
    {
     "data": {
      "text/plain": [
       "0         1985.0\n",
       "1         1985.0\n",
       "2         1993.0\n",
       "3         1993.0\n",
       "4         2016.0\n",
       "           ...  \n",
       "753273    2019.0\n",
       "753274    2020.0\n",
       "753275    2020.0\n",
       "753276    2021.0\n",
       "753277    2021.0\n",
       "Name: year, Length: 753278, dtype: float32"
      ]
     },
     "execution_count": 69,
     "metadata": {},
     "output_type": "execute_result"
    }
   ],
   "source": [
    "# read dataset\n",
    "df = pd.read_csv(fname)\n",
    "\n",
    "# define outName to better name the ouput files\n",
    "outName = re.sub('final_dataset_', '', os.path.basename(fname).split('.')[0])\n",
    "\n",
    "# create label-encoding variable for gauge id\n",
    "x = pd.DataFrame({'ohdb_id':df.ohdb_id.unique(),'gauge_id':np.arange(df.ohdb_id.unique().shape[0])})\n",
    "df = df.merge(x, on = 'ohdb_id')\n",
    "df.gauge_id = df.gauge_id.astype(str)\n",
    "\n",
    "# create label-encoding variable for country id\n",
    "x = pd.DataFrame({'country':df.country.unique(),'country_id':np.arange(df.country.unique().shape[0])})\n",
    "df = df.merge(x, on = 'country')\n",
    "df.country_id = df.country_id.astype(str)\n",
    "\n",
    "# Create a binary feature to indicate whether the temperature is below freezing\n",
    "df['freeze'] = np.where(df.tmax_3 < 0, True, False)\n",
    "\n",
    "# create label-encoding variable for dam purpose\n",
    "x = pd.DataFrame({'Main_Purpose':df.Main_Purpose.unique(),'Main_Purpose_id':np.arange(df.Main_Purpose.unique().shape[0])})\n",
    "df = df.merge(x, on = 'Main_Purpose')\n",
    "df.Main_Purpose_id = df.Main_Purpose_id.astype(str)\n",
    "\n",
    "# create label-encoding variable for season \n",
    "x = pd.DataFrame({'season':df.season.unique(),'season_id':np.arange(df.season.unique().shape[0])})\n",
    "df = df.merge(x, on = 'season')\n",
    "df.season_id = df.season_id.astype(str)\n",
    "df.climate = df.climate.astype(str)\n",
    "df.year = df.year.astype(np.float32)"
   ]
  },
  {
   "cell_type": "code",
   "execution_count": 38,
   "id": "78ba0a7c-5dc7-441f-96a4-89dfdacc1aaa",
   "metadata": {},
   "outputs": [
    {
     "data": {
      "text/plain": [
       "(753278, 120)"
      ]
     },
     "execution_count": 38,
     "metadata": {},
     "output_type": "execute_result"
    }
   ],
   "source": [
    "df.shape"
   ]
  },
  {
   "cell_type": "code",
   "execution_count": 63,
   "id": "dfa9b420-8d6c-4cc9-9f6e-dcdea031de04",
   "metadata": {},
   "outputs": [],
   "source": [
    "predictors = [  'BDTICM', 'elevation', 'slope', 'aridity', \n",
    "                'sedimentary', 'plutonic', 'volcanic', 'metamorphic',\n",
    "                'clay_layer1', 'clay_layer6', 'clay_layer3', 'clay_layer4', 'clay_layer2', 'clay_layer5',\n",
    "                'sand_layer1', 'sand_layer6', 'sand_layer3', 'sand_layer4', 'sand_layer2', 'sand_layer5',\n",
    "                'silt_layer1', 'silt_layer6', 'silt_layer3', 'silt_layer4', 'silt_layer2', 'silt_layer5',\n",
    "                'Porosity_x', 'logK_Ice_x',\n",
    "\n",
    "                'ohdb_latitude', 'ohdb_longitude', 'year', 'month', 'gauge_id', 'country_id', 'freeze', 'climate',\n",
    "\n",
    "                # 'swe_3', 'swmelt_3', 'srad_3', 't2max_3', 't2min_3', 'evap_3', 'pr_3',\n",
    "                # 'swe_7', 'swmelt_7', 'srad_7', 't2max_7', 't2min_7', 'evap_7', 'pr_7',\n",
    "                # 'swe_15', 'swmelt_15', 'srad_15', 't2max_15', 't2min_15', 'evap_15', 'pr_15',\n",
    "                # 'swe_30', 'swmelt_30', 'srad_30', 't2max_30', 't2min_30', 'evap_30', 'pr_30',\n",
    "\n",
    "                'lwd_3', 'p_3', 'pres_3', 'relhum_3', 'swd_3', 'spechum_3', 'tmax_3', 'tmin_3', 'wind_3', \n",
    "                'lwd_7', 'p_7', 'pres_7', 'relhum_7', 'swd_7', 'spechum_7', 'tmax_7', 'tmin_7', 'wind_7', \n",
    "                'lwd_15', 'p_15', 'pres_15', 'relhum_15', 'swd_15', 'spechum_15', 'tmax_15', 'tmin_15', 'wind_15', \n",
    "                'lwd_30', 'p_30', 'pres_30', 'relhum_30', 'swd_30', 'spechum_30', 'tmax_30', 'tmin_30', 'wind_30',\n",
    "\n",
    "                'runoff_ratio', 'slope_fdc', 'Q10_50', 'high_q_freq', 'low_q_freq', \n",
    "                'zero_q_freq', 'cv', 'high_q_dur', 'low_q_dur', 'BFI', 'lagT', 'noResRatio', 'FI', 'p_mean', \n",
    "                'stream_elas', 'hfd_mean',\n",
    "\n",
    "                'tmax_ave', 'tmax_std',\n",
    "\n",
    "                'ImperviousSurface', 'crop', 'forest', 'grass', 'water', 'wetland',\n",
    "\n",
    "                'res_darea_normalize', 'Year_ave', 'Main_Purpose_id',\n",
    "            ]\n",
    "\n",
    "X = df[predictors]\n",
    "y = df['Q'].values\n",
    "y = y / df['gritDarea'].values * 86.4\n",
    "if (df.Q==0).any():\n",
    "    y = y + 0.1\n",
    "y = np.log(y)\n",
    "\n",
    "X = cp.array(X)"
   ]
  },
  {
   "cell_type": "code",
   "execution_count": 52,
   "id": "ad73052c-b821-439e-be1e-489f1ea577a5",
   "metadata": {},
   "outputs": [
    {
     "ename": "AttributeError",
     "evalue": "'Booster' object has no attribute 'get_params'",
     "output_type": "error",
     "traceback": [
      "\u001b[0;31m---------------------------------------------------------------------------\u001b[0m",
      "\u001b[0;31mAttributeError\u001b[0m                            Traceback (most recent call last)",
      "Cell \u001b[0;32mIn[52], line 4\u001b[0m\n\u001b[1;32m      2\u001b[0m ml \u001b[38;5;241m=\u001b[39m xgb\u001b[38;5;241m.\u001b[39mBooster()\n\u001b[1;32m      3\u001b[0m ml\u001b[38;5;241m.\u001b[39mload_model(fname)\n\u001b[0;32m----> 4\u001b[0m \u001b[38;5;28mprint\u001b[39m(\u001b[43mml\u001b[49m\u001b[38;5;241;43m.\u001b[39;49m\u001b[43mget_params\u001b[49m()[\u001b[38;5;124m'\u001b[39m\u001b[38;5;124meta\u001b[39m\u001b[38;5;124m'\u001b[39m])\n",
      "\u001b[0;31mAttributeError\u001b[0m: 'Booster' object has no attribute 'get_params'"
     ]
    }
   ],
   "source": [
    "for fname in glob.glob('../results/xgb*json'):\n",
    "    ml = xgb.Booster()\n",
    "    ml.load_model(fname)\n",
    "    print(ml.get_params()['eta'])"
   ]
  },
  {
   "cell_type": "code",
   "execution_count": 43,
   "id": "b2357f27-0c00-40e3-acb9-f74fb2f40f21",
   "metadata": {},
   "outputs": [],
   "source": [
    "ml.set_param({'device': 'cpu'})\n",
    "X = cp.asnumpy(X)\n",
    "X = xgb.DMatrix(X)\n",
    "\n",
    "y_pred = ml.predict(X)\n",
    "y_pred = np.exp(y_pred)\n",
    "if (df.Q==0).any():\n",
    "    y_pred = y_pred - 0.1\n",
    "y_pred = y_pred * df['gritDarea'].values / 86.4"
   ]
  },
  {
   "cell_type": "markdown",
   "id": "f8f58528-69be-49b4-8107-81e83e384071",
   "metadata": {},
   "source": []
  },
  {
   "cell_type": "code",
   "execution_count": 66,
   "id": "ecd5a536-8ffb-417c-8234-c3cba123e1d3",
   "metadata": {},
   "outputs": [
    {
     "data": {
      "text/plain": [
       "{'BDTICM': 'q',\n",
       " 'elevation': 'q',\n",
       " 'slope': 'q',\n",
       " 'aridity': 'q',\n",
       " 'sedimentary': 'q',\n",
       " 'plutonic': 'q',\n",
       " 'volcanic': 'q',\n",
       " 'metamorphic': 'q',\n",
       " 'clay_layer1': 'q',\n",
       " 'clay_layer6': 'q',\n",
       " 'clay_layer3': 'q',\n",
       " 'clay_layer4': 'q',\n",
       " 'clay_layer2': 'q',\n",
       " 'clay_layer5': 'q',\n",
       " 'sand_layer1': 'q',\n",
       " 'sand_layer6': 'q',\n",
       " 'sand_layer3': 'q',\n",
       " 'sand_layer4': 'q',\n",
       " 'sand_layer2': 'q',\n",
       " 'sand_layer5': 'q',\n",
       " 'silt_layer1': 'q',\n",
       " 'silt_layer6': 'q',\n",
       " 'silt_layer3': 'q',\n",
       " 'silt_layer4': 'q',\n",
       " 'silt_layer2': 'q',\n",
       " 'silt_layer5': 'q',\n",
       " 'Porosity_x': 'q',\n",
       " 'logK_Ice_x': 'q',\n",
       " 'ohdb_latitude': 'q',\n",
       " 'ohdb_longitude': 'q',\n",
       " 'year': 'c',\n",
       " 'month': 'c',\n",
       " 'gauge_id': 'c',\n",
       " 'country_id': 'c',\n",
       " 'freeze': 'c',\n",
       " 'climate': 'q',\n",
       " 'lwd_3': 'q',\n",
       " 'p_3': 'q',\n",
       " 'pres_3': 'q',\n",
       " 'relhum_3': 'q',\n",
       " 'swd_3': 'q',\n",
       " 'spechum_3': 'q',\n",
       " 'tmax_3': 'q',\n",
       " 'tmin_3': 'q',\n",
       " 'wind_3': 'q',\n",
       " 'lwd_7': 'q',\n",
       " 'p_7': 'q',\n",
       " 'pres_7': 'q',\n",
       " 'relhum_7': 'q',\n",
       " 'swd_7': 'q',\n",
       " 'spechum_7': 'q',\n",
       " 'tmax_7': 'q',\n",
       " 'tmin_7': 'q',\n",
       " 'wind_7': 'q',\n",
       " 'lwd_15': 'q',\n",
       " 'p_15': 'q',\n",
       " 'pres_15': 'q',\n",
       " 'relhum_15': 'q',\n",
       " 'swd_15': 'q',\n",
       " 'spechum_15': 'q',\n",
       " 'tmax_15': 'q',\n",
       " 'tmin_15': 'q',\n",
       " 'wind_15': 'q',\n",
       " 'lwd_30': 'q',\n",
       " 'p_30': 'q',\n",
       " 'pres_30': 'q',\n",
       " 'relhum_30': 'q',\n",
       " 'swd_30': 'q',\n",
       " 'spechum_30': 'q',\n",
       " 'tmax_30': 'q',\n",
       " 'tmin_30': 'q',\n",
       " 'wind_30': 'q',\n",
       " 'runoff_ratio': 'q',\n",
       " 'slope_fdc': 'q',\n",
       " 'Q10_50': 'q',\n",
       " 'high_q_freq': 'q',\n",
       " 'low_q_freq': 'q',\n",
       " 'zero_q_freq': 'q',\n",
       " 'cv': 'q',\n",
       " 'high_q_dur': 'q',\n",
       " 'low_q_dur': 'q',\n",
       " 'BFI': 'q',\n",
       " 'lagT': 'q',\n",
       " 'noResRatio': 'q',\n",
       " 'FI': 'q',\n",
       " 'p_mean': 'q',\n",
       " 'stream_elas': 'q',\n",
       " 'hfd_mean': 'q',\n",
       " 'tmax_ave': 'q',\n",
       " 'tmax_std': 'q',\n",
       " 'ImperviousSurface': 'q',\n",
       " 'crop': 'q',\n",
       " 'forest': 'q',\n",
       " 'grass': 'q',\n",
       " 'water': 'q',\n",
       " 'wetland': 'q',\n",
       " 'res_darea_normalize': 'q',\n",
       " 'Year_ave': 'q',\n",
       " 'Main_Purpose_id': 'c'}"
      ]
     },
     "execution_count": 66,
     "metadata": {},
     "output_type": "execute_result"
    }
   ],
   "source": [
    "X.agg(lambda x: 'q' if x.dtype=='float64' else 'c').to_dict()"
   ]
  },
  {
   "cell_type": "code",
   "execution_count": 57,
   "id": "593484ab-32ea-4066-8bd0-4b1c94ae1885",
   "metadata": {},
   "outputs": [
    {
     "data": {
      "text/plain": [
       "0         0\n",
       "1         0\n",
       "2         0\n",
       "3         0\n",
       "4         0\n",
       "         ..\n",
       "753273    0\n",
       "753274    0\n",
       "753275    0\n",
       "753276    0\n",
       "753277    0\n",
       "Name: freeze, Length: 753278, dtype: object"
      ]
     },
     "execution_count": 57,
     "metadata": {},
     "output_type": "execute_result"
    }
   ],
   "source": [
    "df.freeze.astype(str)"
   ]
  },
  {
   "cell_type": "code",
   "execution_count": 50,
   "id": "1502d5dd-5f36-427f-bbc0-bc45f36dc659",
   "metadata": {},
   "outputs": [
    {
     "ename": "TypeError",
     "evalue": "Booster.load_config() missing 1 required positional argument: 'config'",
     "output_type": "error",
     "traceback": [
      "\u001b[0;31m---------------------------------------------------------------------------\u001b[0m",
      "\u001b[0;31mTypeError\u001b[0m                                 Traceback (most recent call last)",
      "Cell \u001b[0;32mIn[50], line 1\u001b[0m\n\u001b[0;32m----> 1\u001b[0m \u001b[43mml\u001b[49m\u001b[38;5;241;43m.\u001b[39;49m\u001b[43mload_config\u001b[49m\u001b[43m(\u001b[49m\u001b[43m)\u001b[49m\n",
      "\u001b[0;31mTypeError\u001b[0m: Booster.load_config() missing 1 required positional argument: 'config'"
     ]
    }
   ],
   "source": [
    "ml.load_config()"
   ]
  },
  {
   "cell_type": "code",
   "execution_count": null,
   "id": "a9264220-4814-449a-bd89-8d6124a0335b",
   "metadata": {},
   "outputs": [],
   "source": []
  }
 ],
 "metadata": {
  "kernelspec": {
   "display_name": "Python 3 (ipykernel)",
   "language": "python",
   "name": "python3"
  },
  "language_info": {
   "codemirror_mode": {
    "name": "ipython",
    "version": 3
   },
   "file_extension": ".py",
   "mimetype": "text/x-python",
   "name": "python",
   "nbconvert_exporter": "python",
   "pygments_lexer": "ipython3",
   "version": "3.12.8"
  }
 },
 "nbformat": 4,
 "nbformat_minor": 5
}
