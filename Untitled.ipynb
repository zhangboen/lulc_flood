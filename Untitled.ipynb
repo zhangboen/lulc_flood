{
 "cells": [
  {
   "cell_type": "code",
   "execution_count": null,
   "id": "7e5a1247",
   "metadata": {},
   "outputs": [],
   "source": [
    "!cat ../results/run_Qmax7_onlyUrban_0506_1359_seed824956/"
   ]
  }
 ],
 "metadata": {
  "kernelspec": {
   "display_name": "Python 3 (ipykernel)",
   "language": "python",
   "name": "python3"
  },
  "language_info": {
   "codemirror_mode": {
    "name": "ipython",
    "version": 3
   },
   "file_extension": ".py",
   "mimetype": "text/x-python",
   "name": "python",
   "nbconvert_exporter": "python",
   "pygments_lexer": "ipython3",
   "version": "3.11.5"
  }
 },
 "nbformat": 4,
 "nbformat_minor": 5
}
