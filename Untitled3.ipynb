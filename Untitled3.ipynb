{
 "cells": [
  {
   "cell_type": "code",
   "execution_count": 1,
   "id": "28d50716",
   "metadata": {},
   "outputs": [],
   "source": [
    "from src.plot_utils import plot_scatter,plot_map\n",
    "import os,glob,cmaps,sys,re\n",
    "import hydroeval as he\n",
    "import numpy as np\n",
    "from pyogrio import read_dataframe\n",
    "import pandas as pd\n",
    "import pickle\n",
    "import matplotlib.ticker as ticker\n",
    "import seaborn as sns\n",
    "import cartopy.feature as cf\n",
    "import matplotlib.pyplot as plt\n",
    "import multiprocessing as mp\n",
    "import matplotlib as mpl\n",
    "import cartopy.crs as ccrs\n",
    "from src.ale import _get_centres\n",
    "from scipy.stats import pearsonr\n",
    "import scipy.stats as stats\n",
    "import pymannkendall as mk\n",
    "from matplotlib.colors import LogNorm\n",
    "import matplotlib.font_manager as font_manager\n",
    "from scipy.interpolate import interp1d\n",
    "font_manager.fontManager.addfont(os.environ['DATA']+'/fonts/Helvetica/Helvetica.ttf')\n",
    "font_manager.fontManager.addfont(os.environ['DATA']+'/fonts/Helvetica/Helvetica-Bold.ttf')\n",
    "plt.style.use(['science','nature','no-latex']) # require install SciencePlots\n",
    "plt.rc('font', size = 12, family = 'Helvetica')\n",
    "from parallel_pandas import ParallelPandas\n",
    "ParallelPandas.initialize(n_cpu=24, split_factor=24)\n",
    "\n",
    "palette = {'tropical':'#F8D347',\n",
    "           'dry':'#C7B18A',\n",
    "           'temperate':\"#65C2A5\",\n",
    "           'cold':\"#a692b0\",\n",
    "#            'polar':\"#B3B3B3\"\n",
    "          }"
   ]
  },
  {
   "cell_type": "code",
   "execution_count": 2,
   "id": "626188ca",
   "metadata": {},
   "outputs": [],
   "source": [
    "df_Qmin7 = pd.read_csv('../results/xgb_cv10_Qmin7_seasonal4_multi_')\n",
    "df_Qmax7 = pd.read_csv('../results/xgb_cv10_Qmax7_seasonal4_multi_MSWX_meteo_MSWEP_GLEAM_noHydroSig_addNewAttr_raw_result.csv')"
   ]
  },
  {
   "cell_type": "code",
   "execution_count": 3,
   "id": "e3b68e77",
   "metadata": {},
   "outputs": [
    {
     "data": {
      "text/plain": [
       "array([1982., 1983., 1984., 1985., 1986., 1987., 1988., 1989., 1990.,\n",
       "       1991., 1992., 1993., 1994., 1995., 1996., 1997., 1998., 1999.,\n",
       "       2000., 2001., 2002., 2003., 2004., 2005., 2006., 2007., 2008.,\n",
       "       2009., 2010., 2011., 2012., 2013., 2014., 2015., 2016., 2017.,\n",
       "       2018., 2019., 2020.])"
      ]
     },
     "execution_count": 3,
     "metadata": {},
     "output_type": "execute_result"
    }
   ],
   "source": [
    "df_Qmin7.year.unique()"
   ]
  },
  {
   "cell_type": "code",
   "execution_count": null,
   "id": "d5e144ab",
   "metadata": {},
   "outputs": [],
   "source": []
  }
 ],
 "metadata": {
  "kernelspec": {
   "display_name": "Python 3 (ipykernel)",
   "language": "python",
   "name": "python3"
  },
  "language_info": {
   "codemirror_mode": {
    "name": "ipython",
    "version": 3
   },
   "file_extension": ".py",
   "mimetype": "text/x-python",
   "name": "python",
   "nbconvert_exporter": "python",
   "pygments_lexer": "ipython3",
   "version": "3.11.5"
  }
 },
 "nbformat": 4,
 "nbformat_minor": 5
}
